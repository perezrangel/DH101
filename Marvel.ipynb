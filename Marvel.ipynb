{
 "cells": [
  {
   "cell_type": "code",
   "execution_count": 1,
   "metadata": {},
   "outputs": [],
   "source": [
    "import pandas as pd\n",
    "import numpy as np\n"
   ]
  },
  {
   "cell_type": "code",
   "execution_count": 2,
   "metadata": {},
   "outputs": [
    {
     "name": "stdout",
     "output_type": "stream",
     "text": [
      "SEX\n",
      "Male Characters           11638\n",
      "Female Characters          3837\n",
      "Agender Characters           45\n",
      "Genderfluid Characters        2\n",
      "Name: count, dtype: int64\n",
      "ALIGN\n",
      "Bad Characters        6720\n",
      "Good Characters       4636\n",
      "Neutral Characters    2208\n",
      "Name: count, dtype: int64\n"
     ]
    }
   ],
   "source": [
    "#Display data\n",
    "marvel= pd.read_csv('marvel-wikia-data.csv')\n",
    "marvel.head()\n",
    "print(marvel[\"SEX\"].value_counts())\n",
    "print(marvel[\"ALIGN\"].value_counts())\n"
   ]
  },
  {
   "cell_type": "code",
   "execution_count": 3,
   "metadata": {},
   "outputs": [
    {
     "name": "stdout",
     "output_type": "stream",
     "text": [
      "The number of bad characters that are women is 976\n"
     ]
    }
   ],
   "source": [
    "# Filter the DataFrame\n",
    "bad_women = marvel[(marvel['SEX'] == 'Female Characters') & (marvel['ALIGN'] == 'Bad Characters')]\n",
    "\n",
    "# Count the number of rows\n",
    "num_bad_women = len(bad_women)\n",
    "\n",
    "print(f'The number of bad characters that are women is {num_bad_women}')"
   ]
  },
  {
   "cell_type": "code",
   "execution_count": 4,
   "metadata": {},
   "outputs": [],
   "source": [
    "# Subset of Female Bad Characters\n",
    "Condition = (marvel['SEX'] == \"Female Characters\") & (marvel['ALIGN'] == \"Bad Characters\")\n",
    "female_subset = marvel[Condition]\n",
    "female_subset.to_csv(\"female_subset.csv\",index=False)"
   ]
  },
  {
   "cell_type": "code",
   "execution_count": 5,
   "metadata": {},
   "outputs": [
    {
     "data": {
      "text/html": [
       "<div>\n",
       "<style scoped>\n",
       "    .dataframe tbody tr th:only-of-type {\n",
       "        vertical-align: middle;\n",
       "    }\n",
       "\n",
       "    .dataframe tbody tr th {\n",
       "        vertical-align: top;\n",
       "    }\n",
       "\n",
       "    .dataframe thead th {\n",
       "        text-align: right;\n",
       "    }\n",
       "</style>\n",
       "<table border=\"1\" class=\"dataframe\">\n",
       "  <thead>\n",
       "    <tr style=\"text-align: right;\">\n",
       "      <th></th>\n",
       "      <th>Id</th>\n",
       "      <th>Label</th>\n",
       "    </tr>\n",
       "  </thead>\n",
       "  <tbody>\n",
       "    <tr>\n",
       "      <th>0</th>\n",
       "      <td>Black Panther / T'chal</td>\n",
       "      <td>Black Panther / T'chal</td>\n",
       "    </tr>\n",
       "    <tr>\n",
       "      <th>1</th>\n",
       "      <td>Loki [asgardian]</td>\n",
       "      <td>Loki [asgardian]</td>\n",
       "    </tr>\n",
       "    <tr>\n",
       "      <th>2</th>\n",
       "      <td>Mantis / ? Brandt</td>\n",
       "      <td>Mantis / ? Brandt</td>\n",
       "    </tr>\n",
       "    <tr>\n",
       "      <th>3</th>\n",
       "      <td>Iceman / Robert Bobby</td>\n",
       "      <td>Iceman / Robert Bobby</td>\n",
       "    </tr>\n",
       "    <tr>\n",
       "      <th>4</th>\n",
       "      <td>Marvel Girl / Jean Grey</td>\n",
       "      <td>Marvel Girl / Jean Grey</td>\n",
       "    </tr>\n",
       "  </tbody>\n",
       "</table>\n",
       "</div>"
      ],
      "text/plain": [
       "                        Id                    Label\n",
       "0   Black Panther / T'chal   Black Panther / T'chal\n",
       "1         Loki [asgardian]         Loki [asgardian]\n",
       "2        Mantis / ? Brandt        Mantis / ? Brandt\n",
       "3    Iceman / Robert Bobby    Iceman / Robert Bobby\n",
       "4  Marvel Girl / Jean Grey  Marvel Girl / Jean Grey"
      ]
     },
     "execution_count": 5,
     "metadata": {},
     "output_type": "execute_result"
    }
   ],
   "source": [
    "nodes=pd.read_csv(\"marvel-unimodal-nodes.csv\")\n",
    "nodes.head()"
   ]
  },
  {
   "cell_type": "code",
   "execution_count": 6,
   "metadata": {},
   "outputs": [
    {
     "data": {
      "text/html": [
       "<div>\n",
       "<style scoped>\n",
       "    .dataframe tbody tr th:only-of-type {\n",
       "        vertical-align: middle;\n",
       "    }\n",
       "\n",
       "    .dataframe tbody tr th {\n",
       "        vertical-align: top;\n",
       "    }\n",
       "\n",
       "    .dataframe thead th {\n",
       "        text-align: right;\n",
       "    }\n",
       "</style>\n",
       "<table border=\"1\" class=\"dataframe\">\n",
       "  <thead>\n",
       "    <tr style=\"text-align: right;\">\n",
       "      <th></th>\n",
       "      <th>Source</th>\n",
       "      <th>Target</th>\n",
       "      <th>Weight</th>\n",
       "    </tr>\n",
       "  </thead>\n",
       "  <tbody>\n",
       "    <tr>\n",
       "      <th>0</th>\n",
       "      <td>Black Panther / T'chal</td>\n",
       "      <td>Loki [asgardian]</td>\n",
       "      <td>10</td>\n",
       "    </tr>\n",
       "    <tr>\n",
       "      <th>1</th>\n",
       "      <td>Black Panther / T'chal</td>\n",
       "      <td>Mantis / ? Brandt</td>\n",
       "      <td>23</td>\n",
       "    </tr>\n",
       "    <tr>\n",
       "      <th>2</th>\n",
       "      <td>Black Panther / T'chal</td>\n",
       "      <td>Iceman / Robert Bobby</td>\n",
       "      <td>12</td>\n",
       "    </tr>\n",
       "    <tr>\n",
       "      <th>3</th>\n",
       "      <td>Black Panther / T'chal</td>\n",
       "      <td>Marvel Girl / Jean Grey</td>\n",
       "      <td>10</td>\n",
       "    </tr>\n",
       "    <tr>\n",
       "      <th>4</th>\n",
       "      <td>Black Panther / T'chal</td>\n",
       "      <td>Cyclops / Scott Summer</td>\n",
       "      <td>14</td>\n",
       "    </tr>\n",
       "  </tbody>\n",
       "</table>\n",
       "</div>"
      ],
      "text/plain": [
       "                   Source                   Target  Weight\n",
       "0  Black Panther / T'chal         Loki [asgardian]      10\n",
       "1  Black Panther / T'chal        Mantis / ? Brandt      23\n",
       "2  Black Panther / T'chal    Iceman / Robert Bobby      12\n",
       "3  Black Panther / T'chal  Marvel Girl / Jean Grey      10\n",
       "4  Black Panther / T'chal   Cyclops / Scott Summer      14"
      ]
     },
     "execution_count": 6,
     "metadata": {},
     "output_type": "execute_result"
    }
   ],
   "source": [
    "edges=pd.read_csv(\"marvel-unimodal-edges.csv\")\n",
    "edges.head()"
   ]
  }
 ],
 "metadata": {
  "kernelspec": {
   "display_name": "Python 3",
   "language": "python",
   "name": "python3"
  },
  "language_info": {
   "codemirror_mode": {
    "name": "ipython",
    "version": 3
   },
   "file_extension": ".py",
   "mimetype": "text/x-python",
   "name": "python",
   "nbconvert_exporter": "python",
   "pygments_lexer": "ipython3",
   "version": "3.9.6"
  }
 },
 "nbformat": 4,
 "nbformat_minor": 2
}
