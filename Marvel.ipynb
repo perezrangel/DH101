{
 "cells": [
  {
   "cell_type": "code",
   "execution_count": 8,
   "metadata": {},
   "outputs": [],
   "source": [
    "import pandas as pd\n",
    "import numpy as np\n"
   ]
  },
  {
   "cell_type": "code",
   "execution_count": 19,
   "metadata": {},
   "outputs": [
    {
     "name": "stdout",
     "output_type": "stream",
     "text": [
      "SEX\n",
      "Male Characters           11638\n",
      "Female Characters          3837\n",
      "Agender Characters           45\n",
      "Genderfluid Characters        2\n",
      "Name: count, dtype: int64\n",
      "ALIGN\n",
      "Bad Characters        6720\n",
      "Good Characters       4636\n",
      "Neutral Characters    2208\n",
      "Name: count, dtype: int64\n"
     ]
    }
   ],
   "source": [
    "marvel= pd.read_csv('marvel-wikia-data.csv')\n",
    "marvel.head()\n",
    "print(marvel[\"SEX\"].value_counts())\n",
    "print(marvel[\"ALIGN\"].value_counts())\n"
   ]
  },
  {
   "cell_type": "code",
   "execution_count": 20,
   "metadata": {},
   "outputs": [
    {
     "name": "stdout",
     "output_type": "stream",
     "text": [
      "The number of bad characters that are women is 976\n"
     ]
    }
   ],
   "source": [
    "# Filter the DataFrame\n",
    "bad_women = marvel[(marvel['SEX'] == 'Female Characters') & (marvel['ALIGN'] == 'Bad Characters')]\n",
    "\n",
    "# Count the number of rows\n",
    "num_bad_women = len(bad_women)\n",
    "\n",
    "print(f'The number of bad characters that are women is {num_bad_women}')"
   ]
  },
  {
   "cell_type": "code",
   "execution_count": 26,
   "metadata": {},
   "outputs": [],
   "source": [
    "# Subset of Female Bad Characters\n",
    "Condition = (marvel['SEX'] == \"Female Characters\") & (marvel['ALIGN'] == \"Bad Characters\")\n",
    "female_subset = marvel[Condition]\n",
    "female_subset.to_csv(\"female_subset.csv\",index=False)"
   ]
  },
  {
   "cell_type": "code",
   "execution_count": null,
   "metadata": {},
   "outputs": [],
   "source": []
  }
 ],
 "metadata": {
  "kernelspec": {
   "display_name": "Python 3",
   "language": "python",
   "name": "python3"
  },
  "language_info": {
   "codemirror_mode": {
    "name": "ipython",
    "version": 3
   },
   "file_extension": ".py",
   "mimetype": "text/x-python",
   "name": "python",
   "nbconvert_exporter": "python",
   "pygments_lexer": "ipython3",
   "version": "3.9.6"
  }
 },
 "nbformat": 4,
 "nbformat_minor": 2
}
